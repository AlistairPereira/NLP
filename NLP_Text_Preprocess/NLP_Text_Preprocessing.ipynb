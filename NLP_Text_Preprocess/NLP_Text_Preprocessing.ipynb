{
 "cells": [
  {
   "cell_type": "code",
   "execution_count": 1,
   "id": "f8245c0c",
   "metadata": {},
   "outputs": [],
   "source": [
    "import nltk"
   ]
  },
  {
   "cell_type": "code",
   "execution_count": 2,
   "id": "b99c759e",
   "metadata": {},
   "outputs": [
    {
     "name": "stderr",
     "output_type": "stream",
     "text": [
      "[nltk_data] Downloading package punkt to\n",
      "[nltk_data]     C:\\Users\\Amroy\\AppData\\Roaming\\nltk_data...\n",
      "[nltk_data]   Package punkt is already up-to-date!\n"
     ]
    },
    {
     "data": {
      "text/plain": [
       "True"
      ]
     },
     "execution_count": 2,
     "metadata": {},
     "output_type": "execute_result"
    }
   ],
   "source": [
    "nltk.download('punkt')"
   ]
  },
  {
   "cell_type": "code",
   "execution_count": 3,
   "id": "cbaf02b4",
   "metadata": {},
   "outputs": [
    {
     "name": "stderr",
     "output_type": "stream",
     "text": [
      "[nltk_data] Downloading package stopwords to\n",
      "[nltk_data]     C:\\Users\\Amroy\\AppData\\Roaming\\nltk_data...\n",
      "[nltk_data]   Package stopwords is already up-to-date!\n"
     ]
    },
    {
     "data": {
      "text/plain": [
       "True"
      ]
     },
     "execution_count": 3,
     "metadata": {},
     "output_type": "execute_result"
    }
   ],
   "source": [
    "nltk.download('stopwords')"
   ]
  },
  {
   "cell_type": "code",
   "execution_count": 4,
   "id": "10f663dc",
   "metadata": {},
   "outputs": [
    {
     "name": "stderr",
     "output_type": "stream",
     "text": [
      "[nltk_data] Downloading package wordnet to\n",
      "[nltk_data]     C:\\Users\\Amroy\\AppData\\Roaming\\nltk_data...\n",
      "[nltk_data]   Package wordnet is already up-to-date!\n"
     ]
    },
    {
     "data": {
      "text/plain": [
       "True"
      ]
     },
     "execution_count": 4,
     "metadata": {},
     "output_type": "execute_result"
    }
   ],
   "source": [
    "nltk.download('wordnet')"
   ]
  },
  {
   "cell_type": "code",
   "execution_count": 5,
   "id": "4a396bad",
   "metadata": {},
   "outputs": [],
   "source": [
    "#word tokenizer\n",
    "from nltk.tokenize import word_tokenize"
   ]
  },
  {
   "cell_type": "code",
   "execution_count": 6,
   "id": "95c401a9",
   "metadata": {},
   "outputs": [],
   "source": [
    "txt = \"Python is a Programming language.\""
   ]
  },
  {
   "cell_type": "code",
   "execution_count": 7,
   "id": "9c3dabce",
   "metadata": {},
   "outputs": [
    {
     "data": {
      "text/plain": [
       "['Python', 'is', 'a', 'Programming', 'language', '.']"
      ]
     },
     "execution_count": 7,
     "metadata": {},
     "output_type": "execute_result"
    }
   ],
   "source": [
    "#apply word tokenize \n",
    "w= word_tokenize(txt)\n",
    "w"
   ]
  },
  {
   "cell_type": "code",
   "execution_count": 8,
   "id": "070a20ca",
   "metadata": {},
   "outputs": [],
   "source": [
    "#stop words are \"is\",\"a\" \n",
    "#punctiation: \".\""
   ]
  },
  {
   "cell_type": "code",
   "execution_count": 9,
   "id": "1994e9f2",
   "metadata": {},
   "outputs": [],
   "source": [
    "from nltk.tokenize import sent_tokenize"
   ]
  },
  {
   "cell_type": "code",
   "execution_count": 10,
   "id": "37a82091",
   "metadata": {},
   "outputs": [],
   "source": [
    "msg=\"\"\"\n",
    "Natural language processing (NLP) is the ability of a computer program to \n",
    "understand human language as it's spoken and written -- referred to as \n",
    "natural language. It's a component of artificial intelligence (AI).\n",
    "NLP has existed for more than 50 years and has roots in the field of\n",
    "linguistics. It has a variety of real-world applications in numerous fields\n",
    ", including medical research, search engines and business intelligence.\n",
    "\"\"\""
   ]
  },
  {
   "cell_type": "code",
   "execution_count": 11,
   "id": "2d746928",
   "metadata": {},
   "outputs": [
    {
     "data": {
      "text/plain": [
       "[\"\\nNatural language processing (NLP) is the ability of a computer program to \\nunderstand human language as it's spoken and written -- referred to as \\nnatural language.\",\n",
       " \"It's a component of artificial intelligence (AI).\",\n",
       " 'NLP has existed for more than 50 years and has roots in the field of\\nlinguistics.',\n",
       " 'It has a variety of real-world applications in numerous fields\\n, including medical research, search engines and business intelligence.']"
      ]
     },
     "execution_count": 11,
     "metadata": {},
     "output_type": "execute_result"
    }
   ],
   "source": [
    "sentences= sent_tokenize(msg)\n",
    "sentences"
   ]
  },
  {
   "cell_type": "code",
   "execution_count": 12,
   "id": "0be05da8",
   "metadata": {},
   "outputs": [
    {
     "data": {
      "text/plain": [
       "[['Natural',\n",
       "  'language',\n",
       "  'processing',\n",
       "  '(',\n",
       "  'NLP',\n",
       "  ')',\n",
       "  'is',\n",
       "  'the',\n",
       "  'ability',\n",
       "  'of',\n",
       "  'a',\n",
       "  'computer',\n",
       "  'program',\n",
       "  'to',\n",
       "  'understand',\n",
       "  'human',\n",
       "  'language',\n",
       "  'as',\n",
       "  'it',\n",
       "  \"'s\",\n",
       "  'spoken',\n",
       "  'and',\n",
       "  'written',\n",
       "  '--',\n",
       "  'referred',\n",
       "  'to',\n",
       "  'as',\n",
       "  'natural',\n",
       "  'language',\n",
       "  '.'],\n",
       " ['It',\n",
       "  \"'s\",\n",
       "  'a',\n",
       "  'component',\n",
       "  'of',\n",
       "  'artificial',\n",
       "  'intelligence',\n",
       "  '(',\n",
       "  'AI',\n",
       "  ')',\n",
       "  '.'],\n",
       " ['NLP',\n",
       "  'has',\n",
       "  'existed',\n",
       "  'for',\n",
       "  'more',\n",
       "  'than',\n",
       "  '50',\n",
       "  'years',\n",
       "  'and',\n",
       "  'has',\n",
       "  'roots',\n",
       "  'in',\n",
       "  'the',\n",
       "  'field',\n",
       "  'of',\n",
       "  'linguistics',\n",
       "  '.'],\n",
       " ['It',\n",
       "  'has',\n",
       "  'a',\n",
       "  'variety',\n",
       "  'of',\n",
       "  'real-world',\n",
       "  'applications',\n",
       "  'in',\n",
       "  'numerous',\n",
       "  'fields',\n",
       "  ',',\n",
       "  'including',\n",
       "  'medical',\n",
       "  'research',\n",
       "  ',',\n",
       "  'search',\n",
       "  'engines',\n",
       "  'and',\n",
       "  'business',\n",
       "  'intelligence',\n",
       "  '.']]"
      ]
     },
     "execution_count": 12,
     "metadata": {},
     "output_type": "execute_result"
    }
   ],
   "source": [
    "word = [word_tokenize(sentence) for sentence in sentences]\n",
    "word"
   ]
  },
  {
   "cell_type": "code",
   "execution_count": 13,
   "id": "6a23011a",
   "metadata": {},
   "outputs": [],
   "source": [
    "# Stemming"
   ]
  },
  {
   "cell_type": "code",
   "execution_count": 14,
   "id": "87cf0c2f",
   "metadata": {},
   "outputs": [],
   "source": [
    "from nltk.stem import PorterStemmer"
   ]
  },
  {
   "cell_type": "code",
   "execution_count": 15,
   "id": "0ccce5f4",
   "metadata": {},
   "outputs": [
    {
     "data": {
      "text/plain": [
       "['wait', 'waited', 'waiting']"
      ]
     },
     "execution_count": 15,
     "metadata": {},
     "output_type": "execute_result"
    }
   ],
   "source": [
    "words =['wait','waited','waiting']\n",
    "words"
   ]
  },
  {
   "cell_type": "code",
   "execution_count": 16,
   "id": "6d6f33c2",
   "metadata": {},
   "outputs": [],
   "source": [
    "ps = PorterStemmer()"
   ]
  },
  {
   "cell_type": "code",
   "execution_count": 17,
   "id": "5e340499",
   "metadata": {},
   "outputs": [
    {
     "data": {
      "text/plain": [
       "['wait', 'wait', 'wait']"
      ]
     },
     "execution_count": 17,
     "metadata": {},
     "output_type": "execute_result"
    }
   ],
   "source": [
    "new_word=[ps.stem(w) for w in words]\n",
    "new_word"
   ]
  },
  {
   "cell_type": "code",
   "execution_count": 18,
   "id": "78e06577",
   "metadata": {},
   "outputs": [],
   "source": [
    "words =['study','studies','studies','studied','history','historical']"
   ]
  },
  {
   "cell_type": "code",
   "execution_count": 19,
   "id": "07b528c1",
   "metadata": {},
   "outputs": [
    {
     "data": {
      "text/plain": [
       "['studi', 'studi', 'studi', 'studi', 'histori', 'histor']"
      ]
     },
     "execution_count": 19,
     "metadata": {},
     "output_type": "execute_result"
    }
   ],
   "source": [
    "new_word = [ps.stem(w) for w in words]\n",
    "new_word"
   ]
  },
  {
   "cell_type": "code",
   "execution_count": 20,
   "id": "55b93174",
   "metadata": {},
   "outputs": [],
   "source": [
    "#lemmatization"
   ]
  },
  {
   "cell_type": "code",
   "execution_count": 21,
   "id": "dc399d61",
   "metadata": {},
   "outputs": [],
   "source": [
    "msg = \"It is very important to bepythonly while you are pythoning with python. All pythoners have pythone.\""
   ]
  },
  {
   "cell_type": "code",
   "execution_count": 22,
   "id": "b8576e92",
   "metadata": {},
   "outputs": [
    {
     "data": {
      "text/plain": [
       "['It',\n",
       " 'is',\n",
       " 'very',\n",
       " 'important',\n",
       " 'to',\n",
       " 'bepythonly',\n",
       " 'while',\n",
       " 'you',\n",
       " 'are',\n",
       " 'pythoning',\n",
       " 'with',\n",
       " 'python',\n",
       " '.',\n",
       " 'All',\n",
       " 'pythoners',\n",
       " 'have',\n",
       " 'pythone',\n",
       " '.']"
      ]
     },
     "execution_count": 22,
     "metadata": {},
     "output_type": "execute_result"
    }
   ],
   "source": [
    "words=word_tokenize(msg)\n",
    "words"
   ]
  },
  {
   "cell_type": "code",
   "execution_count": 23,
   "id": "ac201c4d",
   "metadata": {},
   "outputs": [
    {
     "data": {
      "text/plain": [
       "['it',\n",
       " 'is',\n",
       " 'veri',\n",
       " 'import',\n",
       " 'to',\n",
       " 'bepythonli',\n",
       " 'while',\n",
       " 'you',\n",
       " 'are',\n",
       " 'python',\n",
       " 'with',\n",
       " 'python',\n",
       " '.',\n",
       " 'all',\n",
       " 'python',\n",
       " 'have',\n",
       " 'python',\n",
       " '.']"
      ]
     },
     "execution_count": 23,
     "metadata": {},
     "output_type": "execute_result"
    }
   ],
   "source": [
    "#stemming\n",
    "new_word = [ps.stem(w) for w in words]\n",
    "new_word"
   ]
  },
  {
   "cell_type": "code",
   "execution_count": 24,
   "id": "f4d48ddc",
   "metadata": {},
   "outputs": [],
   "source": [
    "#lemmatization\n"
   ]
  },
  {
   "cell_type": "code",
   "execution_count": 25,
   "id": "2ec58d9c",
   "metadata": {},
   "outputs": [],
   "source": [
    "from nltk.stem import WordNetLemmatizer"
   ]
  },
  {
   "cell_type": "code",
   "execution_count": 26,
   "id": "9677f3da",
   "metadata": {},
   "outputs": [],
   "source": [
    "lemma = WordNetLemmatizer()"
   ]
  },
  {
   "cell_type": "code",
   "execution_count": 27,
   "id": "c517785b",
   "metadata": {},
   "outputs": [
    {
     "data": {
      "text/plain": [
       "['study', 'studies', 'studies', 'studied', 'history', 'historical']"
      ]
     },
     "execution_count": 27,
     "metadata": {},
     "output_type": "execute_result"
    }
   ],
   "source": [
    "words =['study','studies','studies','studied','history','historical']\n",
    "words"
   ]
  },
  {
   "cell_type": "code",
   "execution_count": 28,
   "id": "7c5b6b38",
   "metadata": {},
   "outputs": [
    {
     "data": {
      "text/plain": [
       "['studi', 'studi', 'studi', 'studi', 'histori', 'histor']"
      ]
     },
     "execution_count": 28,
     "metadata": {},
     "output_type": "execute_result"
    }
   ],
   "source": [
    "new_word = [ps.stem(w) for w in words]\n",
    "new_word"
   ]
  },
  {
   "cell_type": "code",
   "execution_count": 29,
   "id": "ce36cc4d",
   "metadata": {},
   "outputs": [
    {
     "data": {
      "text/plain": [
       "['study', 'study', 'study', 'studied', 'history', 'historical']"
      ]
     },
     "execution_count": 29,
     "metadata": {},
     "output_type": "execute_result"
    }
   ],
   "source": [
    "result = [lemma.lemmatize(w) for w in words]\n",
    "result"
   ]
  },
  {
   "cell_type": "code",
   "execution_count": 30,
   "id": "970f900f",
   "metadata": {},
   "outputs": [
    {
     "data": {
      "text/plain": [
       "['study', 'study', 'study', 'study', 'history', 'historical']"
      ]
     },
     "execution_count": 30,
     "metadata": {},
     "output_type": "execute_result"
    }
   ],
   "source": [
    "result = [lemma.lemmatize(w, pos=\"v\") for w in words]\n",
    "result"
   ]
  },
  {
   "cell_type": "code",
   "execution_count": 31,
   "id": "01d5ac18",
   "metadata": {},
   "outputs": [
    {
     "data": {
      "text/plain": [
       "['study', 'study', 'study', 'studied', 'history', 'historical']"
      ]
     },
     "execution_count": 31,
     "metadata": {},
     "output_type": "execute_result"
    }
   ],
   "source": [
    "result = [lemma.lemmatize(w,pos=\"n\") for w in words]\n",
    "result"
   ]
  },
  {
   "cell_type": "code",
   "execution_count": 32,
   "id": "f0cecdb4",
   "metadata": {},
   "outputs": [],
   "source": [
    "#-------------------------------------------"
   ]
  },
  {
   "cell_type": "code",
   "execution_count": 33,
   "id": "3282da01",
   "metadata": {},
   "outputs": [
    {
     "data": {
      "text/plain": [
       "'It is very important to bepythonly while you are pythoning with python. All pythoners have pythone.'"
      ]
     },
     "execution_count": 33,
     "metadata": {},
     "output_type": "execute_result"
    }
   ],
   "source": [
    "msg=\"It is very important to bepythonly while you are pythoning with python. All pythoners have pythone.\"\n",
    "msg"
   ]
  },
  {
   "cell_type": "code",
   "execution_count": 34,
   "id": "b65eb64c",
   "metadata": {},
   "outputs": [
    {
     "data": {
      "text/plain": [
       "['It',\n",
       " 'is',\n",
       " 'very',\n",
       " 'important',\n",
       " 'to',\n",
       " 'bepythonly',\n",
       " 'while',\n",
       " 'you',\n",
       " 'are',\n",
       " 'pythoning',\n",
       " 'with',\n",
       " 'python',\n",
       " '.',\n",
       " 'All',\n",
       " 'pythoners',\n",
       " 'have',\n",
       " 'pythone',\n",
       " '.']"
      ]
     },
     "execution_count": 34,
     "metadata": {},
     "output_type": "execute_result"
    }
   ],
   "source": [
    "#tokenize\n",
    "words = word_tokenize(msg)\n",
    "words"
   ]
  },
  {
   "cell_type": "code",
   "execution_count": 35,
   "id": "87952b9e",
   "metadata": {},
   "outputs": [
    {
     "data": {
      "text/plain": [
       "['It',\n",
       " 'be',\n",
       " 'very',\n",
       " 'important',\n",
       " 'to',\n",
       " 'bepythonly',\n",
       " 'while',\n",
       " 'you',\n",
       " 'be',\n",
       " 'pythoning',\n",
       " 'with',\n",
       " 'python',\n",
       " '.',\n",
       " 'All',\n",
       " 'pythoners',\n",
       " 'have',\n",
       " 'pythone',\n",
       " '.']"
      ]
     },
     "execution_count": 35,
     "metadata": {},
     "output_type": "execute_result"
    }
   ],
   "source": [
    "#lemmatize\n",
    "result = [lemma.lemmatize(w,pos=\"v\") for w in words]\n",
    "result"
   ]
  },
  {
   "cell_type": "code",
   "execution_count": 36,
   "id": "fe47aba3",
   "metadata": {},
   "outputs": [],
   "source": [
    "#remove stopwords (connectors)\n",
    "# all (inputs)records will be stored in one place called \"corpus\" and inside the corpus we have inbuilt class to remove \"stopwords\"."
   ]
  },
  {
   "cell_type": "code",
   "execution_count": 37,
   "id": "99beda07",
   "metadata": {},
   "outputs": [],
   "source": [
    "from nltk.corpus import stopwords"
   ]
  },
  {
   "cell_type": "code",
   "execution_count": 38,
   "id": "9b7fb644",
   "metadata": {},
   "outputs": [],
   "source": [
    "stop = stopwords.words(\"english\")"
   ]
  },
  {
   "cell_type": "code",
   "execution_count": 39,
   "id": "3ac1ccfa",
   "metadata": {},
   "outputs": [
    {
     "data": {
      "text/plain": [
       "['i',\n",
       " 'me',\n",
       " 'my',\n",
       " 'myself',\n",
       " 'we',\n",
       " 'our',\n",
       " 'ours',\n",
       " 'ourselves',\n",
       " 'you',\n",
       " \"you're\",\n",
       " \"you've\",\n",
       " \"you'll\",\n",
       " \"you'd\",\n",
       " 'your',\n",
       " 'yours',\n",
       " 'yourself',\n",
       " 'yourselves',\n",
       " 'he',\n",
       " 'him',\n",
       " 'his',\n",
       " 'himself',\n",
       " 'she',\n",
       " \"she's\",\n",
       " 'her',\n",
       " 'hers',\n",
       " 'herself',\n",
       " 'it',\n",
       " \"it's\",\n",
       " 'its',\n",
       " 'itself',\n",
       " 'they',\n",
       " 'them',\n",
       " 'their',\n",
       " 'theirs',\n",
       " 'themselves',\n",
       " 'what',\n",
       " 'which',\n",
       " 'who',\n",
       " 'whom',\n",
       " 'this',\n",
       " 'that',\n",
       " \"that'll\",\n",
       " 'these',\n",
       " 'those',\n",
       " 'am',\n",
       " 'is',\n",
       " 'are',\n",
       " 'was',\n",
       " 'were',\n",
       " 'be',\n",
       " 'been',\n",
       " 'being',\n",
       " 'have',\n",
       " 'has',\n",
       " 'had',\n",
       " 'having',\n",
       " 'do',\n",
       " 'does',\n",
       " 'did',\n",
       " 'doing',\n",
       " 'a',\n",
       " 'an',\n",
       " 'the',\n",
       " 'and',\n",
       " 'but',\n",
       " 'if',\n",
       " 'or',\n",
       " 'because',\n",
       " 'as',\n",
       " 'until',\n",
       " 'while',\n",
       " 'of',\n",
       " 'at',\n",
       " 'by',\n",
       " 'for',\n",
       " 'with',\n",
       " 'about',\n",
       " 'against',\n",
       " 'between',\n",
       " 'into',\n",
       " 'through',\n",
       " 'during',\n",
       " 'before',\n",
       " 'after',\n",
       " 'above',\n",
       " 'below',\n",
       " 'to',\n",
       " 'from',\n",
       " 'up',\n",
       " 'down',\n",
       " 'in',\n",
       " 'out',\n",
       " 'on',\n",
       " 'off',\n",
       " 'over',\n",
       " 'under',\n",
       " 'again',\n",
       " 'further',\n",
       " 'then',\n",
       " 'once',\n",
       " 'here',\n",
       " 'there',\n",
       " 'when',\n",
       " 'where',\n",
       " 'why',\n",
       " 'how',\n",
       " 'all',\n",
       " 'any',\n",
       " 'both',\n",
       " 'each',\n",
       " 'few',\n",
       " 'more',\n",
       " 'most',\n",
       " 'other',\n",
       " 'some',\n",
       " 'such',\n",
       " 'no',\n",
       " 'nor',\n",
       " 'not',\n",
       " 'only',\n",
       " 'own',\n",
       " 'same',\n",
       " 'so',\n",
       " 'than',\n",
       " 'too',\n",
       " 'very',\n",
       " 's',\n",
       " 't',\n",
       " 'can',\n",
       " 'will',\n",
       " 'just',\n",
       " 'don',\n",
       " \"don't\",\n",
       " 'should',\n",
       " \"should've\",\n",
       " 'now',\n",
       " 'd',\n",
       " 'll',\n",
       " 'm',\n",
       " 'o',\n",
       " 're',\n",
       " 've',\n",
       " 'y',\n",
       " 'ain',\n",
       " 'aren',\n",
       " \"aren't\",\n",
       " 'couldn',\n",
       " \"couldn't\",\n",
       " 'didn',\n",
       " \"didn't\",\n",
       " 'doesn',\n",
       " \"doesn't\",\n",
       " 'hadn',\n",
       " \"hadn't\",\n",
       " 'hasn',\n",
       " \"hasn't\",\n",
       " 'haven',\n",
       " \"haven't\",\n",
       " 'isn',\n",
       " \"isn't\",\n",
       " 'ma',\n",
       " 'mightn',\n",
       " \"mightn't\",\n",
       " 'mustn',\n",
       " \"mustn't\",\n",
       " 'needn',\n",
       " \"needn't\",\n",
       " 'shan',\n",
       " \"shan't\",\n",
       " 'shouldn',\n",
       " \"shouldn't\",\n",
       " 'wasn',\n",
       " \"wasn't\",\n",
       " 'weren',\n",
       " \"weren't\",\n",
       " 'won',\n",
       " \"won't\",\n",
       " 'wouldn',\n",
       " \"wouldn't\"]"
      ]
     },
     "execution_count": 39,
     "metadata": {},
     "output_type": "execute_result"
    }
   ],
   "source": [
    "stop"
   ]
  },
  {
   "cell_type": "code",
   "execution_count": 40,
   "id": "7db63b11",
   "metadata": {},
   "outputs": [],
   "source": [
    "msg=\"It is very important to bepythonly while you are pythoning with python. All pythoners have pythone.\"\n",
    "msg= msg.lower()"
   ]
  },
  {
   "cell_type": "code",
   "execution_count": 41,
   "id": "c50c4e58",
   "metadata": {},
   "outputs": [
    {
     "data": {
      "text/plain": [
       "'it is very important to bepythonly while you are pythoning with python. all pythoners have pythone.'"
      ]
     },
     "execution_count": 41,
     "metadata": {},
     "output_type": "execute_result"
    }
   ],
   "source": [
    "msg"
   ]
  },
  {
   "cell_type": "code",
   "execution_count": 42,
   "id": "1b1d269f",
   "metadata": {},
   "outputs": [
    {
     "data": {
      "text/plain": [
       "['it',\n",
       " 'is',\n",
       " 'very',\n",
       " 'important',\n",
       " 'to',\n",
       " 'bepythonly',\n",
       " 'while',\n",
       " 'you',\n",
       " 'are',\n",
       " 'pythoning',\n",
       " 'with',\n",
       " 'python',\n",
       " '.',\n",
       " 'all',\n",
       " 'pythoners',\n",
       " 'have',\n",
       " 'pythone',\n",
       " '.']"
      ]
     },
     "execution_count": 42,
     "metadata": {},
     "output_type": "execute_result"
    }
   ],
   "source": [
    "words = word_tokenize(msg)\n",
    "words"
   ]
  },
  {
   "cell_type": "code",
   "execution_count": 43,
   "id": "88bb2df3",
   "metadata": {},
   "outputs": [
    {
     "data": {
      "text/plain": [
       "['it',\n",
       " 'be',\n",
       " 'very',\n",
       " 'important',\n",
       " 'to',\n",
       " 'bepythonly',\n",
       " 'while',\n",
       " 'you',\n",
       " 'be',\n",
       " 'pythoning',\n",
       " 'with',\n",
       " 'python',\n",
       " '.',\n",
       " 'all',\n",
       " 'pythoners',\n",
       " 'have',\n",
       " 'pythone',\n",
       " '.']"
      ]
     },
     "execution_count": 43,
     "metadata": {},
     "output_type": "execute_result"
    }
   ],
   "source": [
    "#lemmatize\n",
    "result = [lemma.lemmatize(w,pos=\"v\") for w in words]\n",
    "result"
   ]
  },
  {
   "cell_type": "code",
   "execution_count": 44,
   "id": "e53f4809",
   "metadata": {},
   "outputs": [
    {
     "data": {
      "text/plain": [
       "['important',\n",
       " 'bepythonly',\n",
       " 'pythoning',\n",
       " 'python',\n",
       " '.',\n",
       " 'pythoners',\n",
       " 'pythone',\n",
       " '.']"
      ]
     },
     "execution_count": 44,
     "metadata": {},
     "output_type": "execute_result"
    }
   ],
   "source": [
    "#remove stop words\n",
    "result = [w for w in result if w not in stop]\n",
    "result"
   ]
  },
  {
   "cell_type": "code",
   "execution_count": 45,
   "id": "003dfaf7",
   "metadata": {},
   "outputs": [],
   "source": [
    "#remove punctuations\n",
    "from string import punctuation"
   ]
  },
  {
   "cell_type": "code",
   "execution_count": 46,
   "id": "1c98d568",
   "metadata": {},
   "outputs": [
    {
     "data": {
      "text/plain": [
       "['!',\n",
       " '\"',\n",
       " '#',\n",
       " '$',\n",
       " '%',\n",
       " '&',\n",
       " \"'\",\n",
       " '(',\n",
       " ')',\n",
       " '*',\n",
       " '+',\n",
       " ',',\n",
       " '-',\n",
       " '.',\n",
       " '/',\n",
       " ':',\n",
       " ';',\n",
       " '<',\n",
       " '=',\n",
       " '>',\n",
       " '?',\n",
       " '@',\n",
       " '[',\n",
       " '\\\\',\n",
       " ']',\n",
       " '^',\n",
       " '_',\n",
       " '`',\n",
       " '{',\n",
       " '|',\n",
       " '}',\n",
       " '~']"
      ]
     },
     "execution_count": 46,
     "metadata": {},
     "output_type": "execute_result"
    }
   ],
   "source": [
    "punc = list(punctuation)\n",
    "punc"
   ]
  },
  {
   "cell_type": "code",
   "execution_count": 47,
   "id": "c03d8351",
   "metadata": {},
   "outputs": [
    {
     "data": {
      "text/plain": [
       "32"
      ]
     },
     "execution_count": 47,
     "metadata": {},
     "output_type": "execute_result"
    }
   ],
   "source": [
    "len(punc)"
   ]
  },
  {
   "cell_type": "code",
   "execution_count": 48,
   "id": "36c6b7a3",
   "metadata": {},
   "outputs": [
    {
     "data": {
      "text/plain": [
       "['important', 'bepythonly', 'pythoning', 'python', 'pythoners', 'pythone']"
      ]
     },
     "execution_count": 48,
     "metadata": {},
     "output_type": "execute_result"
    }
   ],
   "source": [
    "result = [w for w in result if w not in punc]\n",
    "result"
   ]
  },
  {
   "cell_type": "code",
   "execution_count": 49,
   "id": "527a6714",
   "metadata": {},
   "outputs": [],
   "source": [
    "#count Vectorization"
   ]
  },
  {
   "cell_type": "code",
   "execution_count": 50,
   "id": "4221dfd0",
   "metadata": {},
   "outputs": [],
   "source": [
    "from sklearn.feature_extraction.text import CountVectorizer"
   ]
  },
  {
   "cell_type": "code",
   "execution_count": 51,
   "id": "6de22adc",
   "metadata": {},
   "outputs": [
    {
     "name": "stderr",
     "output_type": "stream",
     "text": [
      "C:\\Users\\Amroy\\AppData\\Roaming\\Python\\Python311\\site-packages\\pandas\\core\\arrays\\masked.py:60: UserWarning: Pandas requires version '1.3.6' or newer of 'bottleneck' (version '1.3.5' currently installed).\n",
      "  from pandas.core import (\n"
     ]
    }
   ],
   "source": [
    "import pandas as pd"
   ]
  },
  {
   "cell_type": "code",
   "execution_count": 78,
   "id": "9839599f",
   "metadata": {},
   "outputs": [],
   "source": [
    "d1 = \"I am facing network issue, please solve the network problem\"\n",
    "d2 = \"I am unable to make phone calls\"\n",
    "d3=\"I am shifting, kindly port my number\"\n",
    "d4=\"I want to port my number\""
   ]
  },
  {
   "cell_type": "code",
   "execution_count": 79,
   "id": "e8f8f3e6",
   "metadata": {},
   "outputs": [
    {
     "data": {
      "text/plain": [
       "0    I am facing network issue, please solve the ne...\n",
       "1                      I am unable to make phone calls\n",
       "2                 I am shifting, kindly port my number\n",
       "3                             I want to port my number\n",
       "dtype: object"
      ]
     },
     "execution_count": 79,
     "metadata": {},
     "output_type": "execute_result"
    }
   ],
   "source": [
    "corpus = pd.Series([d1,d2,d3,d4])\n",
    "corpus"
   ]
  },
  {
   "cell_type": "code",
   "execution_count": 80,
   "id": "44426e86",
   "metadata": {},
   "outputs": [],
   "source": [
    "cv = CountVectorizer(stop_words=\"english\")"
   ]
  },
  {
   "cell_type": "code",
   "execution_count": 81,
   "id": "249f8b67",
   "metadata": {},
   "outputs": [
    {
     "data": {
      "text/plain": [
       "<Compressed Sparse Row sparse matrix of dtype 'int64'\n",
       "\twith 16 stored elements and shape (4, 14)>"
      ]
     },
     "execution_count": 81,
     "metadata": {},
     "output_type": "execute_result"
    }
   ],
   "source": [
    "df_count = cv.fit_transform(corpus)\n",
    "df_count"
   ]
  },
  {
   "cell_type": "code",
   "execution_count": 82,
   "id": "ac497240",
   "metadata": {},
   "outputs": [
    {
     "data": {
      "text/plain": [
       "array([[0, 1, 1, 0, 0, 2, 0, 0, 0, 1, 0, 1, 0, 0],\n",
       "       [1, 0, 0, 0, 1, 0, 0, 1, 0, 0, 0, 0, 1, 0],\n",
       "       [0, 0, 0, 1, 0, 0, 1, 0, 1, 0, 1, 0, 0, 0],\n",
       "       [0, 0, 0, 0, 0, 0, 1, 0, 1, 0, 0, 0, 0, 1]], dtype=int64)"
      ]
     },
     "execution_count": 82,
     "metadata": {},
     "output_type": "execute_result"
    }
   ],
   "source": [
    "df_count.toarray()"
   ]
  },
  {
   "cell_type": "code",
   "execution_count": 83,
   "id": "36024037",
   "metadata": {},
   "outputs": [
    {
     "data": {
      "text/plain": [
       "array(['calls', 'facing', 'issue', 'kindly', 'make', 'network', 'number',\n",
       "       'phone', 'port', 'problem', 'shifting', 'solve', 'unable', 'want'],\n",
       "      dtype=object)"
      ]
     },
     "execution_count": 83,
     "metadata": {},
     "output_type": "execute_result"
    }
   ],
   "source": [
    "cv.get_feature_names_out()"
   ]
  },
  {
   "cell_type": "code",
   "execution_count": 84,
   "id": "4bdcc29f",
   "metadata": {},
   "outputs": [
    {
     "data": {
      "text/html": [
       "<div>\n",
       "<style scoped>\n",
       "    .dataframe tbody tr th:only-of-type {\n",
       "        vertical-align: middle;\n",
       "    }\n",
       "\n",
       "    .dataframe tbody tr th {\n",
       "        vertical-align: top;\n",
       "    }\n",
       "\n",
       "    .dataframe thead th {\n",
       "        text-align: right;\n",
       "    }\n",
       "</style>\n",
       "<table border=\"1\" class=\"dataframe\">\n",
       "  <thead>\n",
       "    <tr style=\"text-align: right;\">\n",
       "      <th></th>\n",
       "      <th>calls</th>\n",
       "      <th>facing</th>\n",
       "      <th>issue</th>\n",
       "      <th>kindly</th>\n",
       "      <th>make</th>\n",
       "      <th>network</th>\n",
       "      <th>number</th>\n",
       "      <th>phone</th>\n",
       "      <th>port</th>\n",
       "      <th>problem</th>\n",
       "      <th>shifting</th>\n",
       "      <th>solve</th>\n",
       "      <th>unable</th>\n",
       "      <th>want</th>\n",
       "    </tr>\n",
       "  </thead>\n",
       "  <tbody>\n",
       "    <tr>\n",
       "      <th>0</th>\n",
       "      <td>0</td>\n",
       "      <td>1</td>\n",
       "      <td>1</td>\n",
       "      <td>0</td>\n",
       "      <td>0</td>\n",
       "      <td>2</td>\n",
       "      <td>0</td>\n",
       "      <td>0</td>\n",
       "      <td>0</td>\n",
       "      <td>1</td>\n",
       "      <td>0</td>\n",
       "      <td>1</td>\n",
       "      <td>0</td>\n",
       "      <td>0</td>\n",
       "    </tr>\n",
       "    <tr>\n",
       "      <th>1</th>\n",
       "      <td>1</td>\n",
       "      <td>0</td>\n",
       "      <td>0</td>\n",
       "      <td>0</td>\n",
       "      <td>1</td>\n",
       "      <td>0</td>\n",
       "      <td>0</td>\n",
       "      <td>1</td>\n",
       "      <td>0</td>\n",
       "      <td>0</td>\n",
       "      <td>0</td>\n",
       "      <td>0</td>\n",
       "      <td>1</td>\n",
       "      <td>0</td>\n",
       "    </tr>\n",
       "    <tr>\n",
       "      <th>2</th>\n",
       "      <td>0</td>\n",
       "      <td>0</td>\n",
       "      <td>0</td>\n",
       "      <td>1</td>\n",
       "      <td>0</td>\n",
       "      <td>0</td>\n",
       "      <td>1</td>\n",
       "      <td>0</td>\n",
       "      <td>1</td>\n",
       "      <td>0</td>\n",
       "      <td>1</td>\n",
       "      <td>0</td>\n",
       "      <td>0</td>\n",
       "      <td>0</td>\n",
       "    </tr>\n",
       "    <tr>\n",
       "      <th>3</th>\n",
       "      <td>0</td>\n",
       "      <td>0</td>\n",
       "      <td>0</td>\n",
       "      <td>0</td>\n",
       "      <td>0</td>\n",
       "      <td>0</td>\n",
       "      <td>1</td>\n",
       "      <td>0</td>\n",
       "      <td>1</td>\n",
       "      <td>0</td>\n",
       "      <td>0</td>\n",
       "      <td>0</td>\n",
       "      <td>0</td>\n",
       "      <td>1</td>\n",
       "    </tr>\n",
       "  </tbody>\n",
       "</table>\n",
       "</div>"
      ],
      "text/plain": [
       "   calls  facing  issue  kindly  make  network  number  phone  port  problem  \\\n",
       "0      0       1      1       0     0        2       0      0     0        1   \n",
       "1      1       0      0       0     1        0       0      1     0        0   \n",
       "2      0       0      0       1     0        0       1      0     1        0   \n",
       "3      0       0      0       0     0        0       1      0     1        0   \n",
       "\n",
       "   shifting  solve  unable  want  \n",
       "0         0      1       0     0  \n",
       "1         0      0       1     0  \n",
       "2         1      0       0     0  \n",
       "3         0      0       0     1  "
      ]
     },
     "execution_count": 84,
     "metadata": {},
     "output_type": "execute_result"
    }
   ],
   "source": [
    "df = pd.DataFrame(df_count.toarray(),columns=cv.get_feature_names_out())\n",
    "df"
   ]
  },
  {
   "cell_type": "code",
   "execution_count": 68,
   "id": "60b0d236",
   "metadata": {},
   "outputs": [],
   "source": [
    "#--------------------------------------------------\n",
    "# conerting single tokens(words) into 2 tokens \n",
    "#using Ngrams"
   ]
  },
  {
   "cell_type": "code",
   "execution_count": 69,
   "id": "ea132830",
   "metadata": {},
   "outputs": [],
   "source": [
    "d1 = \"I am facing network issue, please solve the network problem\"\n",
    "d2 = \"I am unable to make phone calls\"\n",
    "d3=\"I am shifting, kindly port my number\"\n",
    "d4=\"I want to port my number\""
   ]
  },
  {
   "cell_type": "code",
   "execution_count": 70,
   "id": "7fc05349",
   "metadata": {},
   "outputs": [
    {
     "data": {
      "text/plain": [
       "0    I am facing network issue, please solve the ne...\n",
       "1                      I am unable to make phone calls\n",
       "2                 I am shifting, kindly port my number\n",
       "3                             I want to port my number\n",
       "dtype: object"
      ]
     },
     "execution_count": 70,
     "metadata": {},
     "output_type": "execute_result"
    }
   ],
   "source": [
    "corpus = pd.Series([d1,d2,d3,d4])\n",
    "corpus"
   ]
  },
  {
   "cell_type": "code",
   "execution_count": 91,
   "id": "3d6c573b",
   "metadata": {},
   "outputs": [],
   "source": [
    "cv = CountVectorizer(stop_words=\"english\",ngram_range=(1,2))\n",
    "#have min 2 and max 2 words."
   ]
  },
  {
   "cell_type": "code",
   "execution_count": 92,
   "id": "3b71e8a9",
   "metadata": {},
   "outputs": [],
   "source": [
    "df_count = cv.fit_transform(corpus)"
   ]
  },
  {
   "cell_type": "code",
   "execution_count": 93,
   "id": "d23fb4c7",
   "metadata": {},
   "outputs": [
    {
     "data": {
      "text/plain": [
       "<Compressed Sparse Row sparse matrix of dtype 'int64'\n",
       "\twith 29 stored elements and shape (4, 26)>"
      ]
     },
     "execution_count": 93,
     "metadata": {},
     "output_type": "execute_result"
    }
   ],
   "source": [
    "df_count"
   ]
  },
  {
   "cell_type": "code",
   "execution_count": 94,
   "id": "3bac2d0a",
   "metadata": {},
   "outputs": [
    {
     "data": {
      "text/plain": [
       "array([[0, 1, 1, 1, 1, 0, 0, 0, 0, 2, 1, 1, 0, 0, 0, 0, 0, 1, 0, 0, 1, 1,\n",
       "        0, 0, 0, 0],\n",
       "       [1, 0, 0, 0, 0, 0, 0, 1, 1, 0, 0, 0, 0, 1, 1, 0, 0, 0, 0, 0, 0, 0,\n",
       "        1, 1, 0, 0],\n",
       "       [0, 0, 0, 0, 0, 1, 1, 0, 0, 0, 0, 0, 1, 0, 0, 1, 1, 0, 1, 1, 0, 0,\n",
       "        0, 0, 0, 0],\n",
       "       [0, 0, 0, 0, 0, 0, 0, 0, 0, 0, 0, 0, 1, 0, 0, 1, 1, 0, 0, 0, 0, 0,\n",
       "        0, 0, 1, 1]], dtype=int64)"
      ]
     },
     "execution_count": 94,
     "metadata": {},
     "output_type": "execute_result"
    }
   ],
   "source": [
    "df_count.toarray()"
   ]
  },
  {
   "cell_type": "code",
   "execution_count": 95,
   "id": "a055cb23",
   "metadata": {},
   "outputs": [
    {
     "data": {
      "text/plain": [
       "array(['calls', 'facing', 'facing network', 'issue', 'issue solve',\n",
       "       'kindly', 'kindly port', 'make', 'make phone', 'network',\n",
       "       'network issue', 'network problem', 'number', 'phone',\n",
       "       'phone calls', 'port', 'port number', 'problem', 'shifting',\n",
       "       'shifting kindly', 'solve', 'solve network', 'unable',\n",
       "       'unable make', 'want', 'want port'], dtype=object)"
      ]
     },
     "execution_count": 95,
     "metadata": {},
     "output_type": "execute_result"
    }
   ],
   "source": [
    "cv.get_feature_names_out()"
   ]
  },
  {
   "cell_type": "code",
   "execution_count": 96,
   "id": "0a6a180f",
   "metadata": {},
   "outputs": [
    {
     "data": {
      "text/html": [
       "<div>\n",
       "<style scoped>\n",
       "    .dataframe tbody tr th:only-of-type {\n",
       "        vertical-align: middle;\n",
       "    }\n",
       "\n",
       "    .dataframe tbody tr th {\n",
       "        vertical-align: top;\n",
       "    }\n",
       "\n",
       "    .dataframe thead th {\n",
       "        text-align: right;\n",
       "    }\n",
       "</style>\n",
       "<table border=\"1\" class=\"dataframe\">\n",
       "  <thead>\n",
       "    <tr style=\"text-align: right;\">\n",
       "      <th></th>\n",
       "      <th>calls</th>\n",
       "      <th>facing</th>\n",
       "      <th>facing network</th>\n",
       "      <th>issue</th>\n",
       "      <th>issue solve</th>\n",
       "      <th>kindly</th>\n",
       "      <th>kindly port</th>\n",
       "      <th>make</th>\n",
       "      <th>make phone</th>\n",
       "      <th>network</th>\n",
       "      <th>...</th>\n",
       "      <th>port number</th>\n",
       "      <th>problem</th>\n",
       "      <th>shifting</th>\n",
       "      <th>shifting kindly</th>\n",
       "      <th>solve</th>\n",
       "      <th>solve network</th>\n",
       "      <th>unable</th>\n",
       "      <th>unable make</th>\n",
       "      <th>want</th>\n",
       "      <th>want port</th>\n",
       "    </tr>\n",
       "  </thead>\n",
       "  <tbody>\n",
       "    <tr>\n",
       "      <th>0</th>\n",
       "      <td>0</td>\n",
       "      <td>1</td>\n",
       "      <td>1</td>\n",
       "      <td>1</td>\n",
       "      <td>1</td>\n",
       "      <td>0</td>\n",
       "      <td>0</td>\n",
       "      <td>0</td>\n",
       "      <td>0</td>\n",
       "      <td>2</td>\n",
       "      <td>...</td>\n",
       "      <td>0</td>\n",
       "      <td>1</td>\n",
       "      <td>0</td>\n",
       "      <td>0</td>\n",
       "      <td>1</td>\n",
       "      <td>1</td>\n",
       "      <td>0</td>\n",
       "      <td>0</td>\n",
       "      <td>0</td>\n",
       "      <td>0</td>\n",
       "    </tr>\n",
       "    <tr>\n",
       "      <th>1</th>\n",
       "      <td>1</td>\n",
       "      <td>0</td>\n",
       "      <td>0</td>\n",
       "      <td>0</td>\n",
       "      <td>0</td>\n",
       "      <td>0</td>\n",
       "      <td>0</td>\n",
       "      <td>1</td>\n",
       "      <td>1</td>\n",
       "      <td>0</td>\n",
       "      <td>...</td>\n",
       "      <td>0</td>\n",
       "      <td>0</td>\n",
       "      <td>0</td>\n",
       "      <td>0</td>\n",
       "      <td>0</td>\n",
       "      <td>0</td>\n",
       "      <td>1</td>\n",
       "      <td>1</td>\n",
       "      <td>0</td>\n",
       "      <td>0</td>\n",
       "    </tr>\n",
       "    <tr>\n",
       "      <th>2</th>\n",
       "      <td>0</td>\n",
       "      <td>0</td>\n",
       "      <td>0</td>\n",
       "      <td>0</td>\n",
       "      <td>0</td>\n",
       "      <td>1</td>\n",
       "      <td>1</td>\n",
       "      <td>0</td>\n",
       "      <td>0</td>\n",
       "      <td>0</td>\n",
       "      <td>...</td>\n",
       "      <td>1</td>\n",
       "      <td>0</td>\n",
       "      <td>1</td>\n",
       "      <td>1</td>\n",
       "      <td>0</td>\n",
       "      <td>0</td>\n",
       "      <td>0</td>\n",
       "      <td>0</td>\n",
       "      <td>0</td>\n",
       "      <td>0</td>\n",
       "    </tr>\n",
       "    <tr>\n",
       "      <th>3</th>\n",
       "      <td>0</td>\n",
       "      <td>0</td>\n",
       "      <td>0</td>\n",
       "      <td>0</td>\n",
       "      <td>0</td>\n",
       "      <td>0</td>\n",
       "      <td>0</td>\n",
       "      <td>0</td>\n",
       "      <td>0</td>\n",
       "      <td>0</td>\n",
       "      <td>...</td>\n",
       "      <td>1</td>\n",
       "      <td>0</td>\n",
       "      <td>0</td>\n",
       "      <td>0</td>\n",
       "      <td>0</td>\n",
       "      <td>0</td>\n",
       "      <td>0</td>\n",
       "      <td>0</td>\n",
       "      <td>1</td>\n",
       "      <td>1</td>\n",
       "    </tr>\n",
       "  </tbody>\n",
       "</table>\n",
       "<p>4 rows × 26 columns</p>\n",
       "</div>"
      ],
      "text/plain": [
       "   calls  facing  facing network  issue  issue solve  kindly  kindly port  \\\n",
       "0      0       1               1      1            1       0            0   \n",
       "1      1       0               0      0            0       0            0   \n",
       "2      0       0               0      0            0       1            1   \n",
       "3      0       0               0      0            0       0            0   \n",
       "\n",
       "   make  make phone  network  ...  port number  problem  shifting  \\\n",
       "0     0           0        2  ...            0        1         0   \n",
       "1     1           1        0  ...            0        0         0   \n",
       "2     0           0        0  ...            1        0         1   \n",
       "3     0           0        0  ...            1        0         0   \n",
       "\n",
       "   shifting kindly  solve  solve network  unable  unable make  want  want port  \n",
       "0                0      1              1       0            0     0          0  \n",
       "1                0      0              0       1            1     0          0  \n",
       "2                1      0              0       0            0     0          0  \n",
       "3                0      0              0       0            0     1          1  \n",
       "\n",
       "[4 rows x 26 columns]"
      ]
     },
     "execution_count": 96,
     "metadata": {},
     "output_type": "execute_result"
    }
   ],
   "source": [
    "df = pd.DataFrame(df_count.toarray(),columns=cv.get_feature_names_out())\n",
    "df"
   ]
  },
  {
   "cell_type": "code",
   "execution_count": 97,
   "id": "8cf52bbd",
   "metadata": {},
   "outputs": [],
   "source": [
    "# TF- IDF vectorization"
   ]
  },
  {
   "cell_type": "code",
   "execution_count": 98,
   "id": "a1041c84",
   "metadata": {},
   "outputs": [],
   "source": [
    "d1 = \"I am facing network issue, please solve the network problem\"\n",
    "d2 = \"I am unable to make phone calls\"\n",
    "d3=\"I am shifting, kindly port my number\"\n",
    "d4=\"I want to port my number\""
   ]
  },
  {
   "cell_type": "code",
   "execution_count": 107,
   "id": "28a53ca6",
   "metadata": {},
   "outputs": [],
   "source": [
    "from sklearn.feature_extraction.text import TfidfVectorizer"
   ]
  },
  {
   "cell_type": "code",
   "execution_count": 108,
   "id": "7a257f1b",
   "metadata": {},
   "outputs": [],
   "source": [
    "d1 = \"I am facing network issue, please solve the network problem\"\n",
    "d2 = \"I am unable to make phone calls\"\n",
    "d3=\"I am shifting, kindly port my number\"\n",
    "d4=\"I want to port my number\""
   ]
  },
  {
   "cell_type": "code",
   "execution_count": 109,
   "id": "184614c8",
   "metadata": {},
   "outputs": [],
   "source": [
    "corpus = pd.Series([d1,d2,d3,d4])"
   ]
  },
  {
   "cell_type": "code",
   "execution_count": 110,
   "id": "14aeecde",
   "metadata": {},
   "outputs": [
    {
     "data": {
      "text/plain": [
       "0    I am facing network issue, please solve the ne...\n",
       "1                      I am unable to make phone calls\n",
       "2                 I am shifting, kindly port my number\n",
       "3                             I want to port my number\n",
       "dtype: object"
      ]
     },
     "execution_count": 110,
     "metadata": {},
     "output_type": "execute_result"
    }
   ],
   "source": [
    "corpus"
   ]
  },
  {
   "cell_type": "code",
   "execution_count": 111,
   "id": "4c259fff",
   "metadata": {},
   "outputs": [],
   "source": [
    "tfidf = TfidfVectorizer(stop_words=\"english\")"
   ]
  },
  {
   "cell_type": "code",
   "execution_count": 112,
   "id": "0f3bb5af",
   "metadata": {},
   "outputs": [
    {
     "data": {
      "text/plain": [
       "<Compressed Sparse Row sparse matrix of dtype 'float64'\n",
       "\twith 16 stored elements and shape (4, 14)>"
      ]
     },
     "execution_count": 112,
     "metadata": {},
     "output_type": "execute_result"
    }
   ],
   "source": [
    "df_count = tfidf.fit_transform(corpus)\n",
    "df_count"
   ]
  },
  {
   "cell_type": "code",
   "execution_count": 114,
   "id": "36f320c8",
   "metadata": {},
   "outputs": [
    {
     "data": {
      "text/plain": [
       "array([[0.        , 0.35355339, 0.35355339, 0.        , 0.        ,\n",
       "        0.70710678, 0.        , 0.        , 0.        , 0.35355339,\n",
       "        0.        , 0.35355339, 0.        , 0.        ],\n",
       "       [0.5       , 0.        , 0.        , 0.        , 0.5       ,\n",
       "        0.        , 0.        , 0.5       , 0.        , 0.        ,\n",
       "        0.        , 0.        , 0.5       , 0.        ],\n",
       "       [0.        , 0.        , 0.        , 0.55528266, 0.        ,\n",
       "        0.        , 0.43779123, 0.        , 0.43779123, 0.        ,\n",
       "        0.55528266, 0.        , 0.        , 0.        ],\n",
       "       [0.        , 0.        , 0.        , 0.        , 0.        ,\n",
       "        0.        , 0.52640543, 0.        , 0.52640543, 0.        ,\n",
       "        0.        , 0.        , 0.        , 0.66767854]])"
      ]
     },
     "execution_count": 114,
     "metadata": {},
     "output_type": "execute_result"
    }
   ],
   "source": [
    "df_count.toarray()"
   ]
  },
  {
   "cell_type": "code",
   "execution_count": 119,
   "id": "0949c8fc",
   "metadata": {},
   "outputs": [
    {
     "data": {
      "text/plain": [
       "array(['calls', 'facing', 'issue', 'kindly', 'make', 'network', 'number',\n",
       "       'phone', 'port', 'problem', 'shifting', 'solve', 'unable', 'want'],\n",
       "      dtype=object)"
      ]
     },
     "execution_count": 119,
     "metadata": {},
     "output_type": "execute_result"
    }
   ],
   "source": [
    "tfidf.get_feature_names_out()"
   ]
  },
  {
   "cell_type": "code",
   "execution_count": 122,
   "id": "86e198a4",
   "metadata": {},
   "outputs": [
    {
     "data": {
      "text/html": [
       "<div>\n",
       "<style scoped>\n",
       "    .dataframe tbody tr th:only-of-type {\n",
       "        vertical-align: middle;\n",
       "    }\n",
       "\n",
       "    .dataframe tbody tr th {\n",
       "        vertical-align: top;\n",
       "    }\n",
       "\n",
       "    .dataframe thead th {\n",
       "        text-align: right;\n",
       "    }\n",
       "</style>\n",
       "<table border=\"1\" class=\"dataframe\">\n",
       "  <thead>\n",
       "    <tr style=\"text-align: right;\">\n",
       "      <th></th>\n",
       "      <th>calls</th>\n",
       "      <th>facing</th>\n",
       "      <th>issue</th>\n",
       "      <th>kindly</th>\n",
       "      <th>make</th>\n",
       "      <th>network</th>\n",
       "      <th>number</th>\n",
       "      <th>phone</th>\n",
       "      <th>port</th>\n",
       "      <th>problem</th>\n",
       "      <th>shifting</th>\n",
       "      <th>solve</th>\n",
       "      <th>unable</th>\n",
       "      <th>want</th>\n",
       "    </tr>\n",
       "  </thead>\n",
       "  <tbody>\n",
       "    <tr>\n",
       "      <th>0</th>\n",
       "      <td>0.0</td>\n",
       "      <td>0.353553</td>\n",
       "      <td>0.353553</td>\n",
       "      <td>0.000000</td>\n",
       "      <td>0.0</td>\n",
       "      <td>0.707107</td>\n",
       "      <td>0.000000</td>\n",
       "      <td>0.0</td>\n",
       "      <td>0.000000</td>\n",
       "      <td>0.353553</td>\n",
       "      <td>0.000000</td>\n",
       "      <td>0.353553</td>\n",
       "      <td>0.0</td>\n",
       "      <td>0.000000</td>\n",
       "    </tr>\n",
       "    <tr>\n",
       "      <th>1</th>\n",
       "      <td>0.5</td>\n",
       "      <td>0.000000</td>\n",
       "      <td>0.000000</td>\n",
       "      <td>0.000000</td>\n",
       "      <td>0.5</td>\n",
       "      <td>0.000000</td>\n",
       "      <td>0.000000</td>\n",
       "      <td>0.5</td>\n",
       "      <td>0.000000</td>\n",
       "      <td>0.000000</td>\n",
       "      <td>0.000000</td>\n",
       "      <td>0.000000</td>\n",
       "      <td>0.5</td>\n",
       "      <td>0.000000</td>\n",
       "    </tr>\n",
       "    <tr>\n",
       "      <th>2</th>\n",
       "      <td>0.0</td>\n",
       "      <td>0.000000</td>\n",
       "      <td>0.000000</td>\n",
       "      <td>0.555283</td>\n",
       "      <td>0.0</td>\n",
       "      <td>0.000000</td>\n",
       "      <td>0.437791</td>\n",
       "      <td>0.0</td>\n",
       "      <td>0.437791</td>\n",
       "      <td>0.000000</td>\n",
       "      <td>0.555283</td>\n",
       "      <td>0.000000</td>\n",
       "      <td>0.0</td>\n",
       "      <td>0.000000</td>\n",
       "    </tr>\n",
       "    <tr>\n",
       "      <th>3</th>\n",
       "      <td>0.0</td>\n",
       "      <td>0.000000</td>\n",
       "      <td>0.000000</td>\n",
       "      <td>0.000000</td>\n",
       "      <td>0.0</td>\n",
       "      <td>0.000000</td>\n",
       "      <td>0.526405</td>\n",
       "      <td>0.0</td>\n",
       "      <td>0.526405</td>\n",
       "      <td>0.000000</td>\n",
       "      <td>0.000000</td>\n",
       "      <td>0.000000</td>\n",
       "      <td>0.0</td>\n",
       "      <td>0.667679</td>\n",
       "    </tr>\n",
       "  </tbody>\n",
       "</table>\n",
       "</div>"
      ],
      "text/plain": [
       "   calls    facing     issue    kindly  make   network    number  phone  \\\n",
       "0    0.0  0.353553  0.353553  0.000000   0.0  0.707107  0.000000    0.0   \n",
       "1    0.5  0.000000  0.000000  0.000000   0.5  0.000000  0.000000    0.5   \n",
       "2    0.0  0.000000  0.000000  0.555283   0.0  0.000000  0.437791    0.0   \n",
       "3    0.0  0.000000  0.000000  0.000000   0.0  0.000000  0.526405    0.0   \n",
       "\n",
       "       port   problem  shifting     solve  unable      want  \n",
       "0  0.000000  0.353553  0.000000  0.353553     0.0  0.000000  \n",
       "1  0.000000  0.000000  0.000000  0.000000     0.5  0.000000  \n",
       "2  0.437791  0.000000  0.555283  0.000000     0.0  0.000000  \n",
       "3  0.526405  0.000000  0.000000  0.000000     0.0  0.667679  "
      ]
     },
     "execution_count": 122,
     "metadata": {},
     "output_type": "execute_result"
    }
   ],
   "source": [
    "df = pd.DataFrame(df_count.toarray(),columns=tfidf.get_feature_names_out())\n",
    "df"
   ]
  },
  {
   "cell_type": "code",
   "execution_count": null,
   "id": "2d01fad0",
   "metadata": {},
   "outputs": [],
   "source": []
  }
 ],
 "metadata": {
  "kernelspec": {
   "display_name": "Python 3 (ipykernel)",
   "language": "python",
   "name": "python3"
  },
  "language_info": {
   "codemirror_mode": {
    "name": "ipython",
    "version": 3
   },
   "file_extension": ".py",
   "mimetype": "text/x-python",
   "name": "python",
   "nbconvert_exporter": "python",
   "pygments_lexer": "ipython3",
   "version": "3.11.5"
  }
 },
 "nbformat": 4,
 "nbformat_minor": 5
}
